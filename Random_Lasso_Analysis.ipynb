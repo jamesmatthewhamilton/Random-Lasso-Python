{
 "cells": [
  {
   "cell_type": "markdown",
   "metadata": {},
   "source": [
    "### Random Lasso"
   ]
  },
  {
   "cell_type": "markdown",
   "metadata": {},
   "source": [
    "Description of random lasso portion of project..."
   ]
  },
  {
   "cell_type": "code",
   "execution_count": 3,
   "metadata": {},
   "outputs": [],
   "source": [
    "# All required packages should go here. No where else. -jmh\n",
    "import numpy as np\n",
    "import time\n",
    "from sklearn.datasets import make_regression\n",
    "from sklearn.metrics import mean_squared_error\n",
    "from sklearn import linear_model"
   ]
  },
  {
   "cell_type": "code",
   "execution_count": null,
   "metadata": {},
   "outputs": [],
   "source": [
    "# Paste RandomLasso.py here. (When complete)"
   ]
  },
  {
   "cell_type": "code",
   "execution_count": 1,
   "metadata": {},
   "outputs": [],
   "source": [
    "# Paste RegressionHelpers.py here. (When complete)"
   ]
  },
  {
   "cell_type": "markdown",
   "metadata": {},
   "source": [
    "We know that as the ratio of features to samples increases, the accuracy of any regression algorithm will deteriorate. Let's observe this effect:"
   ]
  },
  {
   "cell_type": "code",
   "execution_count": 4,
   "metadata": {},
   "outputs": [
    {
     "name": "stdout",
     "output_type": "stream",
     "text": [
      "Ground Truth:\n",
      " [ 0.          0.          0.          0.          0.         65.54517361\n",
      "  4.52905934  0.          0.          0.          0.          0.\n",
      "  0.          0.          0.          0.          0.          0.\n",
      "  0.          0.         17.1464487   0.         57.73406306 24.02874768\n",
      "  0.          0.          0.          0.          0.          0.\n",
      "  0.          0.          0.          0.          0.          0.\n",
      "  0.          0.          0.          0.          0.          0.\n",
      "  0.          0.          0.          0.          0.          0.\n",
      "  0.          0.          0.          0.          0.          0.\n",
      "  0.          0.         14.35086429  0.          0.          0.\n",
      "  0.          0.          0.          0.          0.          0.\n",
      "  0.          0.          0.          0.          0.          0.\n",
      "  0.          0.          0.          0.          0.         97.41805175\n",
      "  0.          0.         33.77446234  0.          0.          0.\n",
      " 93.34064206  0.          0.          0.          0.          0.\n",
      " 60.64194178  0.          0.          0.          0.          0.\n",
      "  0.          0.          0.          0.        ]\n",
      "Lasso Prediction:\n",
      " [-0.00000000e+00 -0.00000000e+00 -0.00000000e+00 -0.00000000e+00\n",
      " -0.00000000e+00  6.54466942e+01  4.35483770e+00 -0.00000000e+00\n",
      " -0.00000000e+00 -0.00000000e+00  0.00000000e+00  0.00000000e+00\n",
      " -0.00000000e+00 -0.00000000e+00 -0.00000000e+00  3.73264965e-03\n",
      "  0.00000000e+00  0.00000000e+00 -0.00000000e+00 -0.00000000e+00\n",
      "  1.69152642e+01 -0.00000000e+00  5.75679327e+01  2.38205302e+01\n",
      " -0.00000000e+00 -6.49509951e-02  0.00000000e+00 -0.00000000e+00\n",
      "  0.00000000e+00  0.00000000e+00 -0.00000000e+00 -0.00000000e+00\n",
      "  0.00000000e+00  0.00000000e+00  0.00000000e+00  0.00000000e+00\n",
      "  0.00000000e+00  0.00000000e+00 -0.00000000e+00 -0.00000000e+00\n",
      " -1.19482096e-02  0.00000000e+00  0.00000000e+00 -0.00000000e+00\n",
      " -0.00000000e+00 -0.00000000e+00 -0.00000000e+00  0.00000000e+00\n",
      "  0.00000000e+00 -0.00000000e+00  8.63283607e-02 -0.00000000e+00\n",
      " -0.00000000e+00  0.00000000e+00 -0.00000000e+00  0.00000000e+00\n",
      "  1.41646365e+01  0.00000000e+00  0.00000000e+00  0.00000000e+00\n",
      " -0.00000000e+00  0.00000000e+00 -0.00000000e+00 -0.00000000e+00\n",
      " -0.00000000e+00  0.00000000e+00  5.83800475e-02 -0.00000000e+00\n",
      "  0.00000000e+00  0.00000000e+00 -0.00000000e+00 -0.00000000e+00\n",
      "  0.00000000e+00 -0.00000000e+00  0.00000000e+00 -0.00000000e+00\n",
      " -0.00000000e+00  9.72277847e+01  0.00000000e+00 -0.00000000e+00\n",
      "  3.36009455e+01  0.00000000e+00  0.00000000e+00  0.00000000e+00\n",
      "  9.32849834e+01  0.00000000e+00 -0.00000000e+00 -0.00000000e+00\n",
      " -0.00000000e+00  1.89861804e-02  6.04416408e+01 -0.00000000e+00\n",
      "  0.00000000e+00 -0.00000000e+00  0.00000000e+00 -1.89733625e-02\n",
      "  0.00000000e+00 -0.00000000e+00 -0.00000000e+00 -0.00000000e+00]\n",
      "Lasso RME:  0.003246168960644653\n",
      "[0.]\n"
     ]
    }
   ],
   "source": [
    "    tests = 1 # Change this to 100. -jmh\n",
    "    start_samples = 50\n",
    "    start_features = 100\n",
    "    start_informative = 10\n",
    "\n",
    "    rmse = np.zeros(tests)\n",
    "    rmse_t = np.zeros(tests)\n",
    "\n",
    "    for ii in range(tests):\n",
    "        # Simulating Data\n",
    "        x, y, ground_truth = make_regression(n_samples=start_samples,\n",
    "                                             n_features=start_features, #* (ii + 1),\n",
    "                                             n_informative=start_informative, coef=True)\n",
    "        # Sorting features their importance. Most important feature in X[:, 0].\n",
    "        sorted_indices = np.flip(np.argsort(ground_truth))\n",
    "        ground_truth = ground_truth[sorted_indices]\n",
    "        X = X[:, sorted_indices]\n",
    "        \n",
    "        print(\"Ground Truth:\\n\", ground_truth.T)\n",
    "\n",
    "        # Testing Lasso\n",
    "        reg = linear_model.LassoCV().fit(x, y)\n",
    "        print(\"Lasso Prediction:\\n\", reg.coef_)  # Comment this out when needed. -jmh\n",
    "        rmse_t[ii] = mean_squared_error(reg.coef_, ground_truth)\n",
    "        print(\"Lasso RME: \", rmse_t[ii])  # Comment this out when needed. -jmh\n",
    "\n",
    "    print(\"Timeline of RMSE: \", rmse)\n",
    "    # Graph the degrading performance of the RMSE as the ratio of features to samples increases. -jmh"
   ]
  },
  {
   "cell_type": "code",
   "execution_count": null,
   "metadata": {},
   "outputs": [],
   "source": []
  }
 ],
 "metadata": {
  "kernelspec": {
   "display_name": "Python 3",
   "language": "python",
   "name": "python3"
  },
  "language_info": {
   "codemirror_mode": {
    "name": "ipython",
    "version": 3
   },
   "file_extension": ".py",
   "mimetype": "text/x-python",
   "name": "python",
   "nbconvert_exporter": "python",
   "pygments_lexer": "ipython3",
   "version": "3.7.6"
  }
 },
 "nbformat": 4,
 "nbformat_minor": 4
}
