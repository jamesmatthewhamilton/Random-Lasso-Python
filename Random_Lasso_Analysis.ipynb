{
 "cells": [
  {
   "cell_type": "markdown",
   "metadata": {},
   "source": [
    "### Random Lasso"
   ]
  },
  {
   "cell_type": "markdown",
   "metadata": {},
   "source": [
    "Description of random lasso portion of project..."
   ]
  },
  {
   "cell_type": "code",
   "execution_count": 2,
   "metadata": {},
   "outputs": [],
   "source": [
    "# All required packages should go here. No where else. -jmh\n",
    "import numpy as np\n",
    "import time\n",
    "from sklearn.datasets import make_regression\n",
    "from sklearn.metrics import mean_squared_error\n",
    "from sklearn import linear_model"
   ]
  },
  {
   "cell_type": "code",
   "execution_count": 3,
   "metadata": {},
   "outputs": [],
   "source": [
    "# Turning off convergence warnings.\n",
    "import warnings\n",
    "from sklearn.exceptions import ConvergenceWarning\n",
    "warnings.filterwarnings(action='ignore', category=ConvergenceWarning)"
   ]
  },
  {
   "cell_type": "code",
   "execution_count": null,
   "metadata": {},
   "outputs": [],
   "source": [
    "# Paste RandomLasso.py here. (When complete)"
   ]
  },
  {
   "cell_type": "code",
   "execution_count": 1,
   "metadata": {},
   "outputs": [],
   "source": [
    "# Paste RegressionHelpers.py here. (When complete)"
   ]
  },
  {
   "cell_type": "markdown",
   "metadata": {},
   "source": [
    "We know that as the ratio of features to samples increases, the accuracy of any regression algorithm will deteriorate. Let's observe this effect:"
   ]
  },
  {
   "cell_type": "code",
   "execution_count": 18,
   "metadata": {},
   "outputs": [
    {
     "name": "stdout",
     "output_type": "stream",
     "text": [
      "------ Test 1 of 10 ------\n",
      "Samples: 100 | Features: 3 | Informative: 4\n",
      "LS Runtime: 0.0004069805145263672\n",
      "LS RME: 3.90854283173504e-27\n",
      "Ridge Runtime: 0.0005638599395751953\n",
      "Ridge RME: 0.002677362094294139\n",
      "Lasso Runtime: 0.04295706748962402\n",
      "Lasso RME: 0.006935778624403897\n",
      "------ Test 2 of 10 ------\n",
      "Samples: 200 | Features: 10 | Informative: 8\n",
      "LS Runtime: 0.0004239082336425781\n",
      "LS RME: 1.191341030971711e-26\n",
      "Ridge Runtime: 0.0007410049438476562\n",
      "Ridge RME: 0.0005947160612619166\n",
      "Lasso Runtime: 0.04328513145446777\n",
      "Lasso RME: 0.009143747939684244\n",
      "------ Test 3 of 10 ------\n",
      "Samples: 300 | Features: 31 | Informative: 12\n",
      "LS Runtime: 0.0012819766998291016\n",
      "LS RME: 1.755724553453542e-27\n",
      "Ridge Runtime: 0.0033288002014160156\n",
      "Ridge RME: 0.0002656500193025018\n",
      "Lasso Runtime: 0.04187178611755371\n",
      "Lasso RME: 0.004842134820101388\n",
      "------ Test 4 of 10 ------\n",
      "Samples: 400 | Features: 100 | Informative: 16\n",
      "LS Runtime: 0.002468109130859375\n",
      "LS RME: 2.8037043483118393e-27\n",
      "Ridge Runtime: 0.004125833511352539\n",
      "Ridge RME: 7.054991879680783e-05\n",
      "Lasso Runtime: 0.046231985092163086\n",
      "Lasso RME: 0.0010606546457301938\n",
      "------ Test 5 of 10 ------\n",
      "Samples: 500 | Features: 316 | Informative: 20\n",
      "LS Runtime: 0.011424064636230469\n",
      "LS RME: 2.554387155900387e-27\n",
      "Ridge Runtime: 0.016044139862060547\n",
      "Ridge RME: 0.00022455638114117442\n",
      "Lasso Runtime: 0.07798886299133301\n",
      "Lasso RME: 0.0008257710346995399\n",
      "------ Test 6 of 10 ------\n",
      "Samples: 600 | Features: 1000 | Informative: 24\n",
      "LS Runtime: 0.03151297569274902\n",
      "LS RME: 34.942962133586114\n",
      "Ridge Runtime: 0.03315997123718262\n",
      "Ridge RME: 34.94296885215682\n",
      "Lasso Runtime: 0.668708086013794\n",
      "Lasso RME: 0.00032799369724883045\n",
      "------ Test 7 of 10 ------\n",
      "Samples: 700 | Features: 3162 | Informative: 28\n",
      "LS Runtime: 0.08123588562011719\n",
      "LS RME: 21.781065410001556\n",
      "Ridge Runtime: 0.06990480422973633\n",
      "Ridge RME: 21.73878997195699\n",
      "Lasso Runtime: 3.5430400371551514\n",
      "Lasso RME: 0.000109585838007601\n",
      "------ Test 8 of 10 ------\n",
      "Samples: 800 | Features: 10000 | Informative: 32\n",
      "LS Runtime: 0.236893892288208\n",
      "LS RME: 8.387280412277859\n",
      "Ridge Runtime: 0.13453078269958496\n",
      "Ridge RME: 8.386874431788401\n",
      "Lasso Runtime: 12.779215097427368\n",
      "Lasso RME: 3.7240687636041785e-05\n",
      "------ Test 9 of 10 ------\n",
      "Samples: 900 | Features: 31622 | Informative: 36\n",
      "LS Runtime: 0.7827458381652832\n",
      "LS RME: 2.4643068621867514\n",
      "Ridge Runtime: 0.31328392028808594\n",
      "Ridge RME: 2.4643738610417567\n",
      "Lasso Runtime: 46.04022669792175\n",
      "Lasso RME: 1.4285587502611125e-05\n",
      "------ Test 10 of 10 ------\n",
      "Samples: 1000 | Features: 100000 | Informative: 40\n",
      "LS Runtime: 4.078179836273193\n",
      "LS RME: 1.171238436054529\n",
      "Ridge Runtime: 1.0825791358947754\n",
      "Ridge RME: 1.1712278338681186\n",
      "Lasso Runtime: 260.1275141239166\n",
      "Lasso RME: 3.9946142883809785e-06\n"
     ]
    }
   ],
   "source": [
    "import RegressionTests \n",
    "\n",
    "# Globals for Testing Lasso and Random Lasso.\n",
    "tests = 10\n",
    "start_samples = np.full(tests, 100)\n",
    "start_features = np.full(tests, 10)\n",
    "start_informative = np.full(tests, 2)\n",
    "\n",
    "rme_least_squares = np.zeros(tests)\n",
    "rme_ridge = np.zeros(tests)\n",
    "rme_lasso = np.zeros(tests)\n",
    "\n",
    "runtime_least_squares = np.zeros(tests)\n",
    "runtime_ridge = np.zeros(tests)\n",
    "runtime_lasso = np.zeros(tests) \n",
    "\n",
    "for ii in range(tests):\n",
    "    print(\"------ Test\", ii + 1, \"of\", tests, \"------\")\n",
    "    start_samples[ii] = start_samples[ii] * (ii + 1)\n",
    "    start_features[ii] = start_features[ii] ** ((ii + 1) / 2)\n",
    "    start_informative[ii] = start_informative[ii] * (2 * (ii + 1))\n",
    "    cores = (-1 if start_features[ii] >= 400 else 1)\n",
    "    \n",
    "    print(\"Samples:\", start_samples[ii],\n",
    "          \"| Features:\", start_features[ii],\n",
    "          \"| Informative:\", start_informative[ii])\n",
    "    \n",
    "    X, y, ground_truth = make_regression(n_samples=start_samples[ii],\n",
    "                                         n_features=start_features[ii],\n",
    "                                         n_informative=start_informative[ii],\n",
    "                                         coef=True)\n",
    "    \n",
    "    # Sorting features by their importance. Most important feature in X[:, 0].\n",
    "    sorted_indices = np.flip(np.argsort(ground_truth))\n",
    "    ground_truth = ground_truth[sorted_indices]\n",
    "    X = X[:, sorted_indices]\n",
    "\n",
    "    #print(\"Ground Truth:\\n\", ground_truth.T)\n",
    "\n",
    "    # Testing Least Squares\n",
    "    start_time = time.time()\n",
    "    reg = linear_model.LinearRegression().fit(X, y)\n",
    "    rme_least_squares[ii], runtime_least_squares[ii] = \\\n",
    "        bulk_analysis_regression(X, y, reg.coef_, ground_truth, \"LS\", start_time)\n",
    "    \n",
    "    # Testing Ridge\n",
    "    start_time = time.time()\n",
    "    reg = linear_model.RidgeCV().fit(X, y)\n",
    "    rme_ridge[ii], runtime_ridge[ii] = \\\n",
    "        bulk_analysis_regression(X, y, reg.coef_, ground_truth, \"Ridge\", start_time)       \n",
    "\n",
    "    # Testing Lasso\n",
    "    start_time = time.time()\n",
    "    reg = linear_model.LassoCV(n_jobs=cores).fit(X, y)\n",
    "    rme_lasso[ii], runtime_lasso[ii] = \\\n",
    "        bulk_analysis_regression(X, y, reg.coef_, ground_truth, \"Lasso\", start_time)\n",
    "\n",
    "# Graph the degrading performance of the RMSE as the ratio of features to samples increases. -jmh"
   ]
  },
  {
   "cell_type": "code",
   "execution_count": null,
   "metadata": {},
   "outputs": [],
   "source": []
  }
 ],
 "metadata": {
  "kernelspec": {
   "display_name": "Python 3",
   "language": "python",
   "name": "python3"
  },
  "language_info": {
   "codemirror_mode": {
    "name": "ipython",
    "version": 3
   },
   "file_extension": ".py",
   "mimetype": "text/x-python",
   "name": "python",
   "nbconvert_exporter": "python",
   "pygments_lexer": "ipython3",
   "version": "3.7.6"
  }
 },
 "nbformat": 4,
 "nbformat_minor": 4
}
